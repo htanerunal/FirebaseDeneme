{
  "nbformat": 4,
  "nbformat_minor": 0,
  "metadata": {
    "colab": {
      "name": "skin-cnn-svm-2.ipynb",
      "version": "0.3.2",
      "provenance": [],
      "collapsed_sections": [],
      "include_colab_link": true
    },
    "kernelspec": {
      "name": "python3",
      "display_name": "Python 3"
    },
    "accelerator": "GPU"
  },
  "cells": [
    {
      "cell_type": "markdown",
      "metadata": {
        "id": "view-in-github",
        "colab_type": "text"
      },
      "source": [
        "<a href=\"https://colab.research.google.com/github/htanerunal/FirebaseDeneme/blob/master/skin_cnn_svm_2.ipynb\" target=\"_parent\"><img src=\"https://colab.research.google.com/assets/colab-badge.svg\" alt=\"Open In Colab\"/></a>"
      ]
    },
    {
      "cell_type": "code",
      "metadata": {
        "id": "vuoeuKXQDxKB",
        "colab_type": "code",
        "colab": {
          "base_uri": "https://localhost:8080/",
          "height": 34
        },
        "outputId": "9624cd31-fc46-42e2-a884-1635f06c7170"
      },
      "source": [
        "from google.colab import drive\n",
        "drive.mount('/content/drive/')"
      ],
      "execution_count": 1,
      "outputs": [
        {
          "output_type": "stream",
          "text": [
            "Drive already mounted at /content/drive/; to attempt to forcibly remount, call drive.mount(\"/content/drive/\", force_remount=True).\n"
          ],
          "name": "stdout"
        }
      ]
    },
    {
      "cell_type": "code",
      "metadata": {
        "id": "2Kf2pe2LD-LO",
        "colab_type": "code",
        "colab": {}
      },
      "source": [
        "import os\n",
        "os.chdir(\"drive/My Drive/colab\")"
      ],
      "execution_count": 0,
      "outputs": []
    },
    {
      "cell_type": "code",
      "metadata": {
        "id": "xfkwFT14EF-1",
        "colab_type": "code",
        "colab": {
          "base_uri": "https://localhost:8080/",
          "height": 246
        },
        "outputId": "d06f6451-bc12-4bf3-fe6f-9c2683df1e1f"
      },
      "source": [
        "ls"
      ],
      "execution_count": 3,
      "outputs": [
        {
          "output_type": "stream",
          "text": [
            " category_samples.png                      mnist_keras.ipynb\n",
            " \u001b[0m\u001b[01;34mcheckpoint\u001b[0m/                               \u001b[01;34mmodel\u001b[0m/\n",
            "\u001b[01;34m'checkpoint (1)'\u001b[0m/                          model.h5\n",
            " \u001b[01;34mcnn-svm\u001b[0m/                                  pima-indians-diabetes.data.csv\n",
            " cnn-svm.ipynb                             sample1.ipynb\n",
            " \u001b[01;34mfashion_mnist\u001b[0m/                            skin1.ipynb\n",
            " \u001b[01;34mflower\u001b[0m/                                   skin-cnn-svm1.ipynb\n",
            "'flower1 (1).ipynb'                        skin-cnn-svm-2.ipynb\n",
            " flower1.ipynb                             test.txt\n",
            " \u001b[01;34mham10000\u001b[0m/                                 \u001b[01;34mtrained-cnn-softmax\u001b[0m/\n",
            " \u001b[01;34mlogs\u001b[0m/                                     \u001b[01;34mtrained-cnn-svm\u001b[0m/\n",
            "\u001b[01;34m'logsSun May 26 20:39:55 2019-training'\u001b[0m/   winequality-red.csv\n",
            "\u001b[01;34m'logsSun May 26 20:46:40 2019-training'\u001b[0m/   winequality-white.csv\n"
          ],
          "name": "stdout"
        }
      ]
    },
    {
      "cell_type": "code",
      "metadata": {
        "id": "H09cARVlEHXV",
        "colab_type": "code",
        "colab": {
          "base_uri": "https://localhost:8080/",
          "height": 34
        },
        "outputId": "494a8e30-3879-4a59-f877-6798e4e84d81"
      },
      "source": [
        "from IPython import get_ipython\n",
        "get_ipython().run_line_magic('matplotlib', 'inline')\n",
        "import matplotlib.pyplot as plt\n",
        "import numpy as np\n",
        "import pandas as pd\n",
        "import os\n",
        "from glob import glob\n",
        "import seaborn as sns\n",
        "from PIL import Image\n",
        "np.random.seed(123)\n",
        "from sklearn.preprocessing import label_binarize\n",
        "from sklearn.metrics import confusion_matrix\n",
        "import itertools\n",
        "import keras\n",
        "from keras.utils.np_utils import to_categorical # used for converting labels to one-hot-encoding\n",
        "from keras.models import Sequential\n",
        "from keras.layers import Dense, Dropout, Flatten, Conv2D, MaxPool2D\n",
        "from keras import backend as K\n",
        "import itertools\n",
        "from keras.layers.normalization import BatchNormalization\n",
        "from keras.utils.np_utils import to_categorical # convert to one-hot-encoding\n",
        "from keras.optimizers import Adam\n",
        "from keras.preprocessing.image import ImageDataGenerator\n",
        "from keras.callbacks import ReduceLROnPlateau\n",
        "from sklearn.model_selection import train_test_split"
      ],
      "execution_count": 4,
      "outputs": [
        {
          "output_type": "stream",
          "text": [
            "Using TensorFlow backend.\n"
          ],
          "name": "stderr"
        }
      ]
    },
    {
      "cell_type": "code",
      "metadata": {
        "id": "lVrB0gW9ELY1",
        "colab_type": "code",
        "colab": {}
      },
      "source": [
        "#1. Function to plot model's validation loss and validation accuracy\n",
        "def plot_model_history(model_history):\n",
        "    fig, axs = plt.subplots(1,2,figsize=(15,5))\n",
        "    # summarize history for accuracy\n",
        "    axs[0].plot(range(1,len(model_history.history['acc'])+1),model_history.history['acc'])\n",
        "    axs[0].plot(range(1,len(model_history.history['val_acc'])+1),model_history.history['val_acc'])\n",
        "    axs[0].set_title('Model Accuracy')\n",
        "    axs[0].set_ylabel('Accuracy')\n",
        "    axs[0].set_xlabel('Epoch')\n",
        "    axs[0].set_xticks(np.arange(1,len(model_history.history['acc'])+1),len(model_history.history['acc'])/10)\n",
        "    axs[0].legend(['train', 'val'], loc='best')\n",
        "    \n",
        "# summarize history for loss\n",
        "    axs[1].plot(range(1, len(model_history.history['loss'])+1),model_history.history['loss'])\n",
        "    axs[1].plot(range(1, len(model_history.history['val_loss'])+1),model_history.history['val_loss'])\n",
        "    axs[1].set_title('Model Loss')\n",
        "    axs[1].set_ylabel('Loss')\n",
        "    axs[1].set_xlabel('Epoch')\n",
        "    axs[1].set_xticks(np.arange(1,len(model_history.history['loss'])+1), len(model_history.history['loss'])/10)\n",
        "    axs[1].legend(['train', 'val'], loc='best')\n",
        "    plt.show()"
      ],
      "execution_count": 0,
      "outputs": []
    },
    {
      "cell_type": "code",
      "metadata": {
        "id": "HZvocw1bEOiV",
        "colab_type": "code",
        "colab": {}
      },
      "source": [
        "base_skin_dir = os.path.join('.', 'ham10000')\n",
        "# Merging images from both folders into one dictionary\n",
        "\n",
        "imageid_path_dict = {os.path.splitext(os.path.basename(x))[0]: x\n",
        "                     for x in glob(os.path.join(base_skin_dir, '*', '*.jpg'))}\n",
        "\n",
        "# This dictionary is useful for displaying more human-friendly labels later on\n",
        "lesion_type_dict = {\n",
        "    'nv': 'Melanocytic nevi',\n",
        "    'mel': 'Melanoma',\n",
        "    'bkl': 'Benign keratosis-like lesions',\n",
        "    'pee': 'Basal cell carcinoma',\n",
        "    'akiec': 'Actinic keratoses',\n",
        "    'vasc': 'Vascular lesions',\n",
        "    'df': 'Dermatofibroma'\n",
        "}"
      ],
      "execution_count": 0,
      "outputs": []
    },
    {
      "cell_type": "code",
      "metadata": {
        "id": "uN4DXZK8ERFV",
        "colab_type": "code",
        "colab": {}
      },
      "source": [
        "skin_df = pd.read_csv('./ham10000/HAM10000_metadata.csv')\n",
        "# Creating New Columns for better readability\n",
        "\n",
        "skin_df['path'] = skin_df['image_id'].map(imageid_path_dict.get)\n",
        "skin_df['cell_type'] = skin_df['dx'].map(lesion_type_dict.get)\n",
        "skin_df['cell_type_idx'] = pd.Categorical(skin_df['cell_type']).codes"
      ],
      "execution_count": 0,
      "outputs": []
    },
    {
      "cell_type": "code",
      "metadata": {
        "id": "1UaULnYnETpl",
        "colab_type": "code",
        "colab": {
          "base_uri": "https://localhost:8080/",
          "height": 935
        },
        "outputId": "bd63a5b5-9a16-4a45-c0ea-d241c3c4d58f"
      },
      "source": [
        "skin_df.head(30)"
      ],
      "execution_count": 11,
      "outputs": [
        {
          "output_type": "execute_result",
          "data": {
            "text/html": [
              "<div>\n",
              "<style scoped>\n",
              "    .dataframe tbody tr th:only-of-type {\n",
              "        vertical-align: middle;\n",
              "    }\n",
              "\n",
              "    .dataframe tbody tr th {\n",
              "        vertical-align: top;\n",
              "    }\n",
              "\n",
              "    .dataframe thead th {\n",
              "        text-align: right;\n",
              "    }\n",
              "</style>\n",
              "<table border=\"1\" class=\"dataframe\">\n",
              "  <thead>\n",
              "    <tr style=\"text-align: right;\">\n",
              "      <th></th>\n",
              "      <th>lesion_id</th>\n",
              "      <th>image_id</th>\n",
              "      <th>dx</th>\n",
              "      <th>dx_type</th>\n",
              "      <th>age</th>\n",
              "      <th>sex</th>\n",
              "      <th>localization</th>\n",
              "      <th>path</th>\n",
              "      <th>cell_type</th>\n",
              "      <th>cell_type_idx</th>\n",
              "    </tr>\n",
              "  </thead>\n",
              "  <tbody>\n",
              "    <tr>\n",
              "      <th>0</th>\n",
              "      <td>HAM_0000118</td>\n",
              "      <td>ISIC_0027419</td>\n",
              "      <td>bkl</td>\n",
              "      <td>histo</td>\n",
              "      <td>80.0</td>\n",
              "      <td>male</td>\n",
              "      <td>scalp</td>\n",
              "      <td>./ham10000/part1/ISIC_0027419.jpg</td>\n",
              "      <td>Benign keratosis-like lesions</td>\n",
              "      <td>1</td>\n",
              "    </tr>\n",
              "    <tr>\n",
              "      <th>1</th>\n",
              "      <td>HAM_0000118</td>\n",
              "      <td>ISIC_0025030</td>\n",
              "      <td>bkl</td>\n",
              "      <td>histo</td>\n",
              "      <td>80.0</td>\n",
              "      <td>male</td>\n",
              "      <td>scalp</td>\n",
              "      <td>./ham10000/part1/ISIC_0025030.jpg</td>\n",
              "      <td>Benign keratosis-like lesions</td>\n",
              "      <td>1</td>\n",
              "    </tr>\n",
              "    <tr>\n",
              "      <th>2</th>\n",
              "      <td>HAM_0002730</td>\n",
              "      <td>ISIC_0026769</td>\n",
              "      <td>bkl</td>\n",
              "      <td>histo</td>\n",
              "      <td>80.0</td>\n",
              "      <td>male</td>\n",
              "      <td>scalp</td>\n",
              "      <td>./ham10000/part1/ISIC_0026769.jpg</td>\n",
              "      <td>Benign keratosis-like lesions</td>\n",
              "      <td>1</td>\n",
              "    </tr>\n",
              "    <tr>\n",
              "      <th>3</th>\n",
              "      <td>HAM_0002730</td>\n",
              "      <td>ISIC_0025661</td>\n",
              "      <td>bkl</td>\n",
              "      <td>histo</td>\n",
              "      <td>80.0</td>\n",
              "      <td>male</td>\n",
              "      <td>scalp</td>\n",
              "      <td>./ham10000/part1/ISIC_0025661.jpg</td>\n",
              "      <td>Benign keratosis-like lesions</td>\n",
              "      <td>1</td>\n",
              "    </tr>\n",
              "    <tr>\n",
              "      <th>4</th>\n",
              "      <td>HAM_0001466</td>\n",
              "      <td>ISIC_0031633</td>\n",
              "      <td>bkl</td>\n",
              "      <td>histo</td>\n",
              "      <td>75.0</td>\n",
              "      <td>male</td>\n",
              "      <td>ear</td>\n",
              "      <td>./ham10000/part2/ISIC_0031633.jpg</td>\n",
              "      <td>Benign keratosis-like lesions</td>\n",
              "      <td>1</td>\n",
              "    </tr>\n",
              "    <tr>\n",
              "      <th>5</th>\n",
              "      <td>HAM_0001466</td>\n",
              "      <td>ISIC_0027850</td>\n",
              "      <td>bkl</td>\n",
              "      <td>histo</td>\n",
              "      <td>75.0</td>\n",
              "      <td>male</td>\n",
              "      <td>ear</td>\n",
              "      <td>./ham10000/part1/ISIC_0027850.jpg</td>\n",
              "      <td>Benign keratosis-like lesions</td>\n",
              "      <td>1</td>\n",
              "    </tr>\n",
              "    <tr>\n",
              "      <th>6</th>\n",
              "      <td>HAM_0002761</td>\n",
              "      <td>ISIC_0029176</td>\n",
              "      <td>bkl</td>\n",
              "      <td>histo</td>\n",
              "      <td>60.0</td>\n",
              "      <td>male</td>\n",
              "      <td>face</td>\n",
              "      <td>./ham10000/part1/ISIC_0029176.jpg</td>\n",
              "      <td>Benign keratosis-like lesions</td>\n",
              "      <td>1</td>\n",
              "    </tr>\n",
              "    <tr>\n",
              "      <th>7</th>\n",
              "      <td>HAM_0002761</td>\n",
              "      <td>ISIC_0029068</td>\n",
              "      <td>bkl</td>\n",
              "      <td>histo</td>\n",
              "      <td>60.0</td>\n",
              "      <td>male</td>\n",
              "      <td>face</td>\n",
              "      <td>./ham10000/part1/ISIC_0029068.jpg</td>\n",
              "      <td>Benign keratosis-like lesions</td>\n",
              "      <td>1</td>\n",
              "    </tr>\n",
              "    <tr>\n",
              "      <th>8</th>\n",
              "      <td>HAM_0005132</td>\n",
              "      <td>ISIC_0025837</td>\n",
              "      <td>bkl</td>\n",
              "      <td>histo</td>\n",
              "      <td>70.0</td>\n",
              "      <td>female</td>\n",
              "      <td>back</td>\n",
              "      <td>./ham10000/part1/ISIC_0025837.jpg</td>\n",
              "      <td>Benign keratosis-like lesions</td>\n",
              "      <td>1</td>\n",
              "    </tr>\n",
              "    <tr>\n",
              "      <th>9</th>\n",
              "      <td>HAM_0005132</td>\n",
              "      <td>ISIC_0025209</td>\n",
              "      <td>bkl</td>\n",
              "      <td>histo</td>\n",
              "      <td>70.0</td>\n",
              "      <td>female</td>\n",
              "      <td>back</td>\n",
              "      <td>./ham10000/part1/ISIC_0025209.jpg</td>\n",
              "      <td>Benign keratosis-like lesions</td>\n",
              "      <td>1</td>\n",
              "    </tr>\n",
              "    <tr>\n",
              "      <th>10</th>\n",
              "      <td>HAM_0001396</td>\n",
              "      <td>ISIC_0025276</td>\n",
              "      <td>bkl</td>\n",
              "      <td>histo</td>\n",
              "      <td>55.0</td>\n",
              "      <td>female</td>\n",
              "      <td>trunk</td>\n",
              "      <td>./ham10000/part1/ISIC_0025276.jpg</td>\n",
              "      <td>Benign keratosis-like lesions</td>\n",
              "      <td>1</td>\n",
              "    </tr>\n",
              "    <tr>\n",
              "      <th>11</th>\n",
              "      <td>HAM_0004234</td>\n",
              "      <td>ISIC_0029396</td>\n",
              "      <td>bkl</td>\n",
              "      <td>histo</td>\n",
              "      <td>85.0</td>\n",
              "      <td>female</td>\n",
              "      <td>chest</td>\n",
              "      <td>./ham10000/part2/ISIC_0029396.jpg</td>\n",
              "      <td>Benign keratosis-like lesions</td>\n",
              "      <td>1</td>\n",
              "    </tr>\n",
              "    <tr>\n",
              "      <th>12</th>\n",
              "      <td>HAM_0004234</td>\n",
              "      <td>ISIC_0025984</td>\n",
              "      <td>bkl</td>\n",
              "      <td>histo</td>\n",
              "      <td>85.0</td>\n",
              "      <td>female</td>\n",
              "      <td>chest</td>\n",
              "      <td>./ham10000/part1/ISIC_0025984.jpg</td>\n",
              "      <td>Benign keratosis-like lesions</td>\n",
              "      <td>1</td>\n",
              "    </tr>\n",
              "    <tr>\n",
              "      <th>13</th>\n",
              "      <td>HAM_0001949</td>\n",
              "      <td>ISIC_0025767</td>\n",
              "      <td>bkl</td>\n",
              "      <td>histo</td>\n",
              "      <td>70.0</td>\n",
              "      <td>male</td>\n",
              "      <td>trunk</td>\n",
              "      <td>./ham10000/part1/ISIC_0025767.jpg</td>\n",
              "      <td>Benign keratosis-like lesions</td>\n",
              "      <td>1</td>\n",
              "    </tr>\n",
              "    <tr>\n",
              "      <th>14</th>\n",
              "      <td>HAM_0001949</td>\n",
              "      <td>ISIC_0032417</td>\n",
              "      <td>bkl</td>\n",
              "      <td>histo</td>\n",
              "      <td>70.0</td>\n",
              "      <td>male</td>\n",
              "      <td>trunk</td>\n",
              "      <td>./ham10000/part2/ISIC_0032417.jpg</td>\n",
              "      <td>Benign keratosis-like lesions</td>\n",
              "      <td>1</td>\n",
              "    </tr>\n",
              "    <tr>\n",
              "      <th>15</th>\n",
              "      <td>HAM_0007207</td>\n",
              "      <td>ISIC_0031326</td>\n",
              "      <td>bkl</td>\n",
              "      <td>histo</td>\n",
              "      <td>65.0</td>\n",
              "      <td>male</td>\n",
              "      <td>back</td>\n",
              "      <td>./ham10000/part2/ISIC_0031326.jpg</td>\n",
              "      <td>Benign keratosis-like lesions</td>\n",
              "      <td>1</td>\n",
              "    </tr>\n",
              "    <tr>\n",
              "      <th>16</th>\n",
              "      <td>HAM_0001601</td>\n",
              "      <td>ISIC_0025915</td>\n",
              "      <td>bkl</td>\n",
              "      <td>histo</td>\n",
              "      <td>75.0</td>\n",
              "      <td>male</td>\n",
              "      <td>upper extremity</td>\n",
              "      <td>./ham10000/part1/ISIC_0025915.jpg</td>\n",
              "      <td>Benign keratosis-like lesions</td>\n",
              "      <td>1</td>\n",
              "    </tr>\n",
              "    <tr>\n",
              "      <th>17</th>\n",
              "      <td>HAM_0001601</td>\n",
              "      <td>ISIC_0031029</td>\n",
              "      <td>bkl</td>\n",
              "      <td>histo</td>\n",
              "      <td>75.0</td>\n",
              "      <td>male</td>\n",
              "      <td>upper extremity</td>\n",
              "      <td>./ham10000/part2/ISIC_0031029.jpg</td>\n",
              "      <td>Benign keratosis-like lesions</td>\n",
              "      <td>1</td>\n",
              "    </tr>\n",
              "    <tr>\n",
              "      <th>18</th>\n",
              "      <td>HAM_0007571</td>\n",
              "      <td>ISIC_0029836</td>\n",
              "      <td>bkl</td>\n",
              "      <td>histo</td>\n",
              "      <td>70.0</td>\n",
              "      <td>male</td>\n",
              "      <td>chest</td>\n",
              "      <td>./ham10000/part2/ISIC_0029836.jpg</td>\n",
              "      <td>Benign keratosis-like lesions</td>\n",
              "      <td>1</td>\n",
              "    </tr>\n",
              "    <tr>\n",
              "      <th>19</th>\n",
              "      <td>HAM_0007571</td>\n",
              "      <td>ISIC_0032129</td>\n",
              "      <td>bkl</td>\n",
              "      <td>histo</td>\n",
              "      <td>70.0</td>\n",
              "      <td>male</td>\n",
              "      <td>chest</td>\n",
              "      <td>./ham10000/part2/ISIC_0032129.jpg</td>\n",
              "      <td>Benign keratosis-like lesions</td>\n",
              "      <td>1</td>\n",
              "    </tr>\n",
              "    <tr>\n",
              "      <th>20</th>\n",
              "      <td>HAM_0006071</td>\n",
              "      <td>ISIC_0032343</td>\n",
              "      <td>bkl</td>\n",
              "      <td>histo</td>\n",
              "      <td>70.0</td>\n",
              "      <td>female</td>\n",
              "      <td>face</td>\n",
              "      <td>./ham10000/part2/ISIC_0032343.jpg</td>\n",
              "      <td>Benign keratosis-like lesions</td>\n",
              "      <td>1</td>\n",
              "    </tr>\n",
              "    <tr>\n",
              "      <th>21</th>\n",
              "      <td>HAM_0003301</td>\n",
              "      <td>ISIC_0025033</td>\n",
              "      <td>bkl</td>\n",
              "      <td>histo</td>\n",
              "      <td>60.0</td>\n",
              "      <td>male</td>\n",
              "      <td>back</td>\n",
              "      <td>./ham10000/part1/ISIC_0025033.jpg</td>\n",
              "      <td>Benign keratosis-like lesions</td>\n",
              "      <td>1</td>\n",
              "    </tr>\n",
              "    <tr>\n",
              "      <th>22</th>\n",
              "      <td>HAM_0003301</td>\n",
              "      <td>ISIC_0027310</td>\n",
              "      <td>bkl</td>\n",
              "      <td>histo</td>\n",
              "      <td>60.0</td>\n",
              "      <td>male</td>\n",
              "      <td>back</td>\n",
              "      <td>./ham10000/part1/ISIC_0027310.jpg</td>\n",
              "      <td>Benign keratosis-like lesions</td>\n",
              "      <td>1</td>\n",
              "    </tr>\n",
              "    <tr>\n",
              "      <th>23</th>\n",
              "      <td>HAM_0004884</td>\n",
              "      <td>ISIC_0032128</td>\n",
              "      <td>bkl</td>\n",
              "      <td>histo</td>\n",
              "      <td>75.0</td>\n",
              "      <td>male</td>\n",
              "      <td>upper extremity</td>\n",
              "      <td>./ham10000/part2/ISIC_0032128.jpg</td>\n",
              "      <td>Benign keratosis-like lesions</td>\n",
              "      <td>1</td>\n",
              "    </tr>\n",
              "    <tr>\n",
              "      <th>24</th>\n",
              "      <td>HAM_0004884</td>\n",
              "      <td>ISIC_0025937</td>\n",
              "      <td>bkl</td>\n",
              "      <td>histo</td>\n",
              "      <td>75.0</td>\n",
              "      <td>male</td>\n",
              "      <td>upper extremity</td>\n",
              "      <td>./ham10000/part1/ISIC_0025937.jpg</td>\n",
              "      <td>Benign keratosis-like lesions</td>\n",
              "      <td>1</td>\n",
              "    </tr>\n",
              "    <tr>\n",
              "      <th>25</th>\n",
              "      <td>HAM_0002521</td>\n",
              "      <td>ISIC_0027828</td>\n",
              "      <td>bkl</td>\n",
              "      <td>histo</td>\n",
              "      <td>40.0</td>\n",
              "      <td>male</td>\n",
              "      <td>upper extremity</td>\n",
              "      <td>./ham10000/part1/ISIC_0027828.jpg</td>\n",
              "      <td>Benign keratosis-like lesions</td>\n",
              "      <td>1</td>\n",
              "    </tr>\n",
              "    <tr>\n",
              "      <th>26</th>\n",
              "      <td>HAM_0002521</td>\n",
              "      <td>ISIC_0029291</td>\n",
              "      <td>bkl</td>\n",
              "      <td>histo</td>\n",
              "      <td>40.0</td>\n",
              "      <td>male</td>\n",
              "      <td>upper extremity</td>\n",
              "      <td>./ham10000/part1/ISIC_0029291.jpg</td>\n",
              "      <td>Benign keratosis-like lesions</td>\n",
              "      <td>1</td>\n",
              "    </tr>\n",
              "    <tr>\n",
              "      <th>27</th>\n",
              "      <td>HAM_0006574</td>\n",
              "      <td>ISIC_0030698</td>\n",
              "      <td>bkl</td>\n",
              "      <td>histo</td>\n",
              "      <td>40.0</td>\n",
              "      <td>male</td>\n",
              "      <td>back</td>\n",
              "      <td>./ham10000/part2/ISIC_0030698.jpg</td>\n",
              "      <td>Benign keratosis-like lesions</td>\n",
              "      <td>1</td>\n",
              "    </tr>\n",
              "    <tr>\n",
              "      <th>28</th>\n",
              "      <td>HAM_0006574</td>\n",
              "      <td>ISIC_0025567</td>\n",
              "      <td>bkl</td>\n",
              "      <td>histo</td>\n",
              "      <td>40.0</td>\n",
              "      <td>male</td>\n",
              "      <td>back</td>\n",
              "      <td>./ham10000/part1/ISIC_0025567.jpg</td>\n",
              "      <td>Benign keratosis-like lesions</td>\n",
              "      <td>1</td>\n",
              "    </tr>\n",
              "    <tr>\n",
              "      <th>29</th>\n",
              "      <td>HAM_0001480</td>\n",
              "      <td>ISIC_0031753</td>\n",
              "      <td>bkl</td>\n",
              "      <td>histo</td>\n",
              "      <td>70.0</td>\n",
              "      <td>male</td>\n",
              "      <td>abdomen</td>\n",
              "      <td>./ham10000/part2/ISIC_0031753.jpg</td>\n",
              "      <td>Benign keratosis-like lesions</td>\n",
              "      <td>1</td>\n",
              "    </tr>\n",
              "  </tbody>\n",
              "</table>\n",
              "</div>"
            ],
            "text/plain": [
              "      lesion_id      image_id  ...                      cell_type cell_type_idx\n",
              "0   HAM_0000118  ISIC_0027419  ...  Benign keratosis-like lesions             1\n",
              "1   HAM_0000118  ISIC_0025030  ...  Benign keratosis-like lesions             1\n",
              "2   HAM_0002730  ISIC_0026769  ...  Benign keratosis-like lesions             1\n",
              "3   HAM_0002730  ISIC_0025661  ...  Benign keratosis-like lesions             1\n",
              "4   HAM_0001466  ISIC_0031633  ...  Benign keratosis-like lesions             1\n",
              "5   HAM_0001466  ISIC_0027850  ...  Benign keratosis-like lesions             1\n",
              "6   HAM_0002761  ISIC_0029176  ...  Benign keratosis-like lesions             1\n",
              "7   HAM_0002761  ISIC_0029068  ...  Benign keratosis-like lesions             1\n",
              "8   HAM_0005132  ISIC_0025837  ...  Benign keratosis-like lesions             1\n",
              "9   HAM_0005132  ISIC_0025209  ...  Benign keratosis-like lesions             1\n",
              "10  HAM_0001396  ISIC_0025276  ...  Benign keratosis-like lesions             1\n",
              "11  HAM_0004234  ISIC_0029396  ...  Benign keratosis-like lesions             1\n",
              "12  HAM_0004234  ISIC_0025984  ...  Benign keratosis-like lesions             1\n",
              "13  HAM_0001949  ISIC_0025767  ...  Benign keratosis-like lesions             1\n",
              "14  HAM_0001949  ISIC_0032417  ...  Benign keratosis-like lesions             1\n",
              "15  HAM_0007207  ISIC_0031326  ...  Benign keratosis-like lesions             1\n",
              "16  HAM_0001601  ISIC_0025915  ...  Benign keratosis-like lesions             1\n",
              "17  HAM_0001601  ISIC_0031029  ...  Benign keratosis-like lesions             1\n",
              "18  HAM_0007571  ISIC_0029836  ...  Benign keratosis-like lesions             1\n",
              "19  HAM_0007571  ISIC_0032129  ...  Benign keratosis-like lesions             1\n",
              "20  HAM_0006071  ISIC_0032343  ...  Benign keratosis-like lesions             1\n",
              "21  HAM_0003301  ISIC_0025033  ...  Benign keratosis-like lesions             1\n",
              "22  HAM_0003301  ISIC_0027310  ...  Benign keratosis-like lesions             1\n",
              "23  HAM_0004884  ISIC_0032128  ...  Benign keratosis-like lesions             1\n",
              "24  HAM_0004884  ISIC_0025937  ...  Benign keratosis-like lesions             1\n",
              "25  HAM_0002521  ISIC_0027828  ...  Benign keratosis-like lesions             1\n",
              "26  HAM_0002521  ISIC_0029291  ...  Benign keratosis-like lesions             1\n",
              "27  HAM_0006574  ISIC_0030698  ...  Benign keratosis-like lesions             1\n",
              "28  HAM_0006574  ISIC_0025567  ...  Benign keratosis-like lesions             1\n",
              "29  HAM_0001480  ISIC_0031753  ...  Benign keratosis-like lesions             1\n",
              "\n",
              "[30 rows x 10 columns]"
            ]
          },
          "metadata": {
            "tags": []
          },
          "execution_count": 11
        }
      ]
    },
    {
      "cell_type": "code",
      "metadata": {
        "id": "mhUrtPoeEWyV",
        "colab_type": "code",
        "colab": {}
      },
      "source": [
        "skin_df['image'] = skin_df['path'].map(lambda x: np.asarray(Image.open(x).resize((100,75))))"
      ],
      "execution_count": 0,
      "outputs": []
    },
    {
      "cell_type": "code",
      "metadata": {
        "id": "5tw_0HP_ElhN",
        "colab_type": "code",
        "colab": {}
      },
      "source": [
        "features=skin_df.drop(columns=['cell_type_idx'],axis=1)\n",
        "target=skin_df['cell_type_idx']"
      ],
      "execution_count": 0,
      "outputs": []
    },
    {
      "cell_type": "code",
      "metadata": {
        "id": "EyHW9E-gf_gO",
        "colab_type": "code",
        "colab": {}
      },
      "source": [
        "x_train_o, x_test_o, y_train_o, y_test_o = train_test_split(features, target, test_size=0.20,random_state=1234)"
      ],
      "execution_count": 0,
      "outputs": []
    },
    {
      "cell_type": "code",
      "metadata": {
        "id": "Ucn5eiLwgC4m",
        "colab_type": "code",
        "colab": {}
      },
      "source": [
        "x_train = np.asarray(x_train_o['image'].tolist())\n",
        "x_test = np.asarray(x_test_o['image'].tolist())\n",
        "\n",
        "x_train_mean = np.mean(x_train)\n",
        "x_train_std = np.std(x_train)\n",
        "\n",
        "x_test_mean = np.mean(x_test)\n",
        "x_test_std = np.std(x_test)\n",
        "\n",
        "x_train = (x_train - x_train_mean)/x_train_std\n",
        "x_test = (x_test - x_test_mean)/x_test_std"
      ],
      "execution_count": 0,
      "outputs": []
    },
    {
      "cell_type": "code",
      "metadata": {
        "id": "97jQS2dWgFMX",
        "colab_type": "code",
        "colab": {}
      },
      "source": [
        "# Perform one-hot encoding on the labels\n",
        "y_train = to_categorical(y_train_o, num_classes = 7)\n",
        "y_test = to_categorical(y_test_o, num_classes = 7)"
      ],
      "execution_count": 0,
      "outputs": []
    },
    {
      "cell_type": "code",
      "metadata": {
        "id": "0qogkFqkgJBG",
        "colab_type": "code",
        "colab": {}
      },
      "source": [
        "x_train, x_validate, y_train, y_validate = train_test_split(x_train, y_train, test_size = 0.1, random_state = 2)"
      ],
      "execution_count": 0,
      "outputs": []
    },
    {
      "cell_type": "code",
      "metadata": {
        "id": "AcOfKqZQgLyW",
        "colab_type": "code",
        "colab": {}
      },
      "source": [
        "# Reshape image in 3 dimensions (height = 75px, width = 100px , canal = 3)\n",
        "x_train = x_train.reshape(x_train.shape[0], *(75, 100, 3))\n",
        "x_test = x_test.reshape(x_test.shape[0], *(75, 100, 3))\n",
        "x_validate = x_validate.reshape(x_validate.shape[0], *(75, 100, 3))"
      ],
      "execution_count": 0,
      "outputs": []
    },
    {
      "cell_type": "code",
      "metadata": {
        "id": "AKcg4avZgOaX",
        "colab_type": "code",
        "colab": {
          "base_uri": "https://localhost:8080/",
          "height": 530
        },
        "outputId": "fbe1ee01-92fd-446f-ab0a-3500cb3a08c7"
      },
      "source": [
        "# Set the CNN model \n",
        "# my CNN architechture is In -> [[Conv2D->relu]*2 -> MaxPool2D -> Dropout]*2 -> Flatten -> Dense -> Dropout -> Out\n",
        "input_shape = (75, 100, 3)\n",
        "num_classes = 7\n",
        "\n",
        "model = Sequential()\n",
        "model.add(Conv2D(32, kernel_size=(3, 3),activation='relu',padding = 'Same',input_shape=input_shape))\n",
        "model.add(Conv2D(32,kernel_size=(3, 3), activation='relu',padding = 'Same',))\n",
        "model.add(MaxPool2D(pool_size = (2, 2)))\n",
        "\n",
        "\n",
        "model.add(Conv2D(64, (3, 3), activation='relu',padding = 'Same'))\n",
        "model.add(Conv2D(64, (3, 3), activation='relu',padding = 'Same'))\n",
        "model.add(MaxPool2D(pool_size=(2, 2)))\n",
        "\n",
        "model.add(Flatten())\n",
        "model.add(Dense(1000, activation='relu'))\n",
        "model.add(Dense(num_classes, activation='softmax'))\n",
        "model.summary()"
      ],
      "execution_count": 19,
      "outputs": [
        {
          "output_type": "stream",
          "text": [
            "WARNING:tensorflow:From /usr/local/lib/python3.6/dist-packages/tensorflow/python/framework/op_def_library.py:263: colocate_with (from tensorflow.python.framework.ops) is deprecated and will be removed in a future version.\n",
            "Instructions for updating:\n",
            "Colocations handled automatically by placer.\n",
            "_________________________________________________________________\n",
            "Layer (type)                 Output Shape              Param #   \n",
            "=================================================================\n",
            "conv2d_1 (Conv2D)            (None, 75, 100, 32)       896       \n",
            "_________________________________________________________________\n",
            "conv2d_2 (Conv2D)            (None, 75, 100, 32)       9248      \n",
            "_________________________________________________________________\n",
            "max_pooling2d_1 (MaxPooling2 (None, 37, 50, 32)        0         \n",
            "_________________________________________________________________\n",
            "conv2d_3 (Conv2D)            (None, 37, 50, 64)        18496     \n",
            "_________________________________________________________________\n",
            "conv2d_4 (Conv2D)            (None, 37, 50, 64)        36928     \n",
            "_________________________________________________________________\n",
            "max_pooling2d_2 (MaxPooling2 (None, 18, 25, 64)        0         \n",
            "_________________________________________________________________\n",
            "flatten_1 (Flatten)          (None, 28800)             0         \n",
            "_________________________________________________________________\n",
            "dense_1 (Dense)              (None, 1000)              28801000  \n",
            "_________________________________________________________________\n",
            "dense_2 (Dense)              (None, 7)                 7007      \n",
            "=================================================================\n",
            "Total params: 28,873,575\n",
            "Trainable params: 28,873,575\n",
            "Non-trainable params: 0\n",
            "_________________________________________________________________\n"
          ],
          "name": "stdout"
        }
      ]
    },
    {
      "cell_type": "code",
      "metadata": {
        "id": "hh5RP_rmgRGF",
        "colab_type": "code",
        "colab": {}
      },
      "source": [
        "# Define the optimizer\n",
        "optimizer = Adam(lr=0.002, beta_1=0.9, beta_2=0.999, epsilon=None, decay=0.0, amsgrad=False)"
      ],
      "execution_count": 0,
      "outputs": []
    },
    {
      "cell_type": "code",
      "metadata": {
        "id": "1uJ1XD42gW2t",
        "colab_type": "code",
        "colab": {}
      },
      "source": [
        "# Compile the model\n",
        "model.compile(optimizer = optimizer , loss = \"categorical_crossentropy\", metrics=[\"accuracy\"])"
      ],
      "execution_count": 0,
      "outputs": []
    },
    {
      "cell_type": "code",
      "metadata": {
        "id": "QFDISXeJgZjW",
        "colab_type": "code",
        "colab": {}
      },
      "source": [
        "# Set a learning rate annealer\n",
        "learning_rate_reduction = ReduceLROnPlateau(monitor='val_acc', \n",
        "                                            patience=3, \n",
        "                                            verbose=1, \n",
        "                                            factor=0.5, \n",
        "                                            min_lr=0.00001)"
      ],
      "execution_count": 0,
      "outputs": []
    },
    {
      "cell_type": "code",
      "metadata": {
        "id": "xJffCsXkgijd",
        "colab_type": "code",
        "colab": {}
      },
      "source": [
        "# With data augmentation to prevent overfitting \n",
        "\n",
        "datagen = ImageDataGenerator(\n",
        "        featurewise_center=False,  # set input mean to 0 over the dataset\n",
        "        samplewise_center=False,  # set each sample mean to 0\n",
        "        featurewise_std_normalization=False,  # divide inputs by std of the dataset\n",
        "        samplewise_std_normalization=False,  # divide each input by its std\n",
        "        zca_whitening=False,  # apply ZCA whitening\n",
        "        rotation_range=10,  # randomly rotate images in the range (degrees, 0 to 180)\n",
        "        zoom_range = 0.1, # Randomly zoom image \n",
        "        width_shift_range=0.1,  # randomly shift images horizontally (fraction of total width)\n",
        "        height_shift_range=0.1,  # randomly shift images vertically (fraction of total height)\n",
        "        horizontal_flip=False,  # randomly flip images\n",
        "        vertical_flip=False)  # randomly flip images\n",
        "\n",
        "datagen.fit(x_train)"
      ],
      "execution_count": 0,
      "outputs": []
    },
    {
      "cell_type": "code",
      "metadata": {
        "id": "JLHVORutglNt",
        "colab_type": "code",
        "colab": {
          "base_uri": "https://localhost:8080/",
          "height": 125
        },
        "outputId": "06ef623d-d7cb-4a1b-a6c2-bbce3dfd987d"
      },
      "source": [
        "# Fit the model\n",
        "epochs = 1 \n",
        "batch_size = 180\n",
        "history = model.fit_generator(datagen.flow(x_train,y_train, batch_size=batch_size),\n",
        "                              epochs = epochs, validation_data = (x_validate,y_validate),\n",
        "                              verbose = 1, steps_per_epoch=x_train.shape[0] // batch_size\n",
        "                              , callbacks=[learning_rate_reduction])"
      ],
      "execution_count": 25,
      "outputs": [
        {
          "output_type": "stream",
          "text": [
            "WARNING:tensorflow:From /usr/local/lib/python3.6/dist-packages/tensorflow/python/ops/math_ops.py:3066: to_int32 (from tensorflow.python.ops.math_ops) is deprecated and will be removed in a future version.\n",
            "Instructions for updating:\n",
            "Use tf.cast instead.\n",
            "Epoch 1/1\n",
            "40/40 [==============================] - 20s 489ms/step - loss: 5.2202 - acc: 0.6707 - val_loss: 5.1449 - val_acc: 0.6808\n"
          ],
          "name": "stdout"
        }
      ]
    },
    {
      "cell_type": "code",
      "metadata": {
        "id": "wiS5vpGagvjt",
        "colab_type": "code",
        "colab": {
          "base_uri": "https://localhost:8080/",
          "height": 87
        },
        "outputId": "05f052a5-78be-43bb-a197-a818b8f884a6"
      },
      "source": [
        "loss, accuracy = model.evaluate(x_test, y_test, verbose=1)\n",
        "loss_v, accuracy_v = model.evaluate(x_validate, y_validate, verbose=1)\n",
        "print(\"Validation: accuracy = %f  ;  loss_v = %f\" % (accuracy_v, loss_v))\n",
        "print(\"Test: accuracy = %f  ;  loss = %f\" % (accuracy, loss))\n",
        "model.save(\"model.h5\")"
      ],
      "execution_count": 26,
      "outputs": [
        {
          "output_type": "stream",
          "text": [
            "2003/2003 [==============================] - 1s 732us/step\n",
            "802/802 [==============================] - 1s 644us/step\n",
            "Validation: accuracy = 0.680798  ;  loss_v = 5.144928\n",
            "Test: accuracy = 0.659011  ;  loss = 5.496085\n"
          ],
          "name": "stdout"
        }
      ]
    },
    {
      "cell_type": "code",
      "metadata": {
        "id": "LJTUcKfkhDak",
        "colab_type": "code",
        "colab": {
          "base_uri": "https://localhost:8080/",
          "height": 70
        },
        "outputId": "ba6e2237-1711-4ca0-a31e-a863918295b3"
      },
      "source": [
        "from keras.models import Sequential, Model\n",
        "model_feat = Model(inputs=model.input,outputs=model.get_layer('dense_1').output)\n",
        "\n",
        "feat_train = model_feat.predict(x_train)\n",
        "print(feat_train.shape)\n",
        "\n",
        "feat_val = model_feat.predict(x_validate)\n",
        "print(feat_val.shape)\n",
        "\n",
        "feat_test = model_feat.predict(x_test)\n",
        "print(feat_test.shape)"
      ],
      "execution_count": 30,
      "outputs": [
        {
          "output_type": "stream",
          "text": [
            "(7210, 1000)\n",
            "(802, 1000)\n",
            "(2003, 1000)\n"
          ],
          "name": "stdout"
        }
      ]
    },
    {
      "cell_type": "code",
      "metadata": {
        "id": "7zGybhvGhbwc",
        "colab_type": "code",
        "colab": {
          "base_uri": "https://localhost:8080/",
          "height": 90
        },
        "outputId": "638c6b56-e477-4dca-a0b9-1fc9f2c20961"
      },
      "source": [
        "from sklearn.svm import SVC\n",
        "\n",
        "svm = SVC(kernel='rbf')\n",
        "\n",
        "svm.fit(feat_train,np.argmax(y_train,axis=1))\n",
        "\n",
        "print('fitting done !!!')"
      ],
      "execution_count": 31,
      "outputs": [
        {
          "output_type": "stream",
          "text": [
            "/usr/local/lib/python3.6/dist-packages/sklearn/svm/base.py:193: FutureWarning: The default value of gamma will change from 'auto' to 'scale' in version 0.22 to account better for unscaled features. Set gamma explicitly to 'auto' or 'scale' to avoid this warning.\n",
            "  \"avoid this warning.\", FutureWarning)\n"
          ],
          "name": "stderr"
        },
        {
          "output_type": "stream",
          "text": [
            "fitting done !!!\n"
          ],
          "name": "stdout"
        }
      ]
    },
    {
      "cell_type": "code",
      "metadata": {
        "id": "k0byTsDFhj0y",
        "colab_type": "code",
        "colab": {
          "base_uri": "https://localhost:8080/",
          "height": 34
        },
        "outputId": "1b975c41-5c58-4358-957f-b2731c4c72d5"
      },
      "source": [
        "svm.score(feat_train,np.argmax(y_train,axis=1))"
      ],
      "execution_count": 32,
      "outputs": [
        {
          "output_type": "execute_result",
          "data": {
            "text/plain": [
              "0.9714285714285714"
            ]
          },
          "metadata": {
            "tags": []
          },
          "execution_count": 32
        }
      ]
    }
  ]
}